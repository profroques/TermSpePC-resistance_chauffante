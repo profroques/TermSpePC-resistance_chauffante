{
 "cells": [
  {
   "cell_type": "markdown",
   "metadata": {},
   "source": [
    "<div class=\"panel panel-primary\">\n",
    "    <div class=\"panel-heading\"><h2>Préambule :</h2></div>\n",
    "      <div class=\"panel-body\">\n",
    "Dans cette interface, vous allez découvrir des blocs de code qui composent un programme informatique complet.\n",
    "\n",
    "Afin de vous permettre de vous initier au codage et de vous faire participer à compléter ce programme informatique, le programme sera fragmenté par blocs. \n",
    "\n",
    "Ainsi, vous serez sollicité.e.s pour deux types d'action. <br>\n",
    "- un travail pour <i>exécuter</i> un bloc de programme informatique ;<br>\n",
    "- un travail pour <i>compléter</i> un bloc de programme informatique.<br>\n",
    "<br>\n",
    "Avant de commencer à découvrir le contenu du programme informatique proposé, je vous invite à prendre connaissance des différents types de consignes et des codes couleurs associés que vous allez rencontrer.\n",
    "      </div>\n",
    "</div>"
   ]
  },
  {
   "cell_type": "markdown",
   "metadata": {},
   "source": [
    "<div class=\"alert alert-info\" role=\"alert\">\n",
    "<b>Informations pour exécuter un bloc de programme informatique : </b> <br>\n",
    "<br><i>Avant</i> les blocs de programme qu'il faut simplément \"exécuter\", vous trouverez :<br>\n",
    "la consigne de travail sur un fond bleu avec une écriture en bleu foncé comme pour cette consigne.<br>\n",
    "\n",
    "Pour Exécuter le code dans un bloc de programme, il faut le sélectionner en cliquant sur la cellule du bloc, puis cliquer sur le bouton Run (ou Exécuter) <b>en haut de la page</b> ou bien en cliquant sur la flèche à côté de In (ou Entrée) si vous êtes sur tablettes ou smartphones.\n",
    "</div>"
   ]
  },
  {
   "cell_type": "markdown",
   "metadata": {},
   "source": [
    "<div class=\"alert alert-warning\">\n",
    "<b>Informations pour compléter un bloc de programme informatique: </b> <br>\n",
    "Certains blocs de codes doivent être complétés <span style='border:1px outset black'>avant</span> d'être exécutés afin de fonctionner convenablement.<br>\n",
    "<br><i>Avant</i> les blocs de programme qu'il faut \"compléter\", vous trouverez:\n",
    "<br> -la consigne de travail sur un fond jaune avec une écriture en brun - comme pour cette consigne.\n",
    "<br>-Dans le bloc de programme à compléter vous remplacerez la mention \"-----A COMPLETER-----\" par le code adapté.\n",
    "<br>-Dans certains cas, il est possible d'avoir des aides et/ou la solution.\n",
    "<br><b>ATTENTION : Une fois le programme complété, il faut alors exécuter le bloc de code correspondant.</b>\n",
    "</div>"
   ]
  },
  {
   "cell_type": "markdown",
   "metadata": {},
   "source": [
    "<h1> INTERFACE - Rendement résistance chauffante - ELEVE - Term Spé PhyChim</h1>"
   ]
  },
  {
   "cell_type": "markdown",
   "metadata": {},
   "source": [
    "<div class=\"panel panel-default\">\n",
    "      <div class=\"panel-heading\"><h2>Rendement résistance chauffante - ELEVE - Term Spé PhyChim</h2></div>\n",
    "       <div class=\"panel-body\">Tout d'abord, un rappel : ce programme a pour but de calculer le rendement d'une résistance chauffante pour déterminer quelle grandeur (entre la masse d'eau liquide et la variation de température) a la plus grande influence sur l'incertitude du rendement énergétique de la résistance chauffante. </div>\n",
    "<div class=\"panel-body\">           \n",
    "Dans cette interface, vous allez découvrir des blocs de code qui composent un programme informatique. Ce programme a pour but :</div>\n",
    "<div class=\"panel-body\">     \n",
    "1] de créer une liste de 1000 valeurs aléatoires de valeurs moyennes et d'incertitudes connues, de calculer la valeur de la moyenne de cette liste de valeurs ainsi que de son incertitude type u, de donner la valeur du paramètre étudié (autrement dit, valeur de la masse ou valeur de la variation de la température).\n",
    "    </div>\n",
    "<div class=\"panel-body\">     \n",
    "2] de demander à l'opératrice ou à l'opérateur de modifier un bloc de programme pour calculer le rendement en fonction du paramètre étudié.\n",
    "    </div>\n",
    "\n",
    "\n",
    "<div class=\"panel-body\">     \n",
    "3] d'exécuter un bloc pour afficher la valeur du rendement avec son incertitude associée.\n",
    "    </div>\n",
    "\n",
    "<div class=\"panel-body\"> \n",
    "Afin de vous permettre de vous initier au codage et de vous faire participer pour compléter ce programme informatique, le programme sera donc fragmenté par bloc selon les modalités et consignes d'usages rappelées au début de cette page. </div>\n",
    "    <br>"
   ]
  },
  {
   "cell_type": "markdown",
   "metadata": {},
   "source": [
    "<div class=\"alert alert-info\" role=\"alert\">\n",
    "<b>TRAVAIL À FAIRE POUR EXÉCUTER LE BLOC SUIVANT </b> <br>\n",
    "<br>\n",
    "    Le bloc de programme suivant d'importer la librairie numpy pour réaliser des calculs. Il permet aussi :\n",
    "    <br>- de créer une liste de 1000 valeurs aléatoires de valeurs moyennes et d'incertitudes connues, \n",
    "    <br>- de calculer la valeur de la moyenne de cette liste de valeurs ainsi que de son incertitude type u, \n",
    "    <br>-de donner la valeur du paramètre étudié (autrement dit, valeur de la masse ou valeur de la variation de la température).\n",
    "    \n",
    "<br>\n",
    "<br>On peut commencer à choisir comme premier paramètre étudié la valeur de la masse <i>m</i> d'eau puis on pourra.\n",
    "<br>\n",
    "\n",
    "<br>\n",
    "<br>\n",
    "Exécuter le bloc en faisant un \"clic gauche\" sur ce bloc puis en choisissant \"Exécuter\" dans la barre d'outils.\n",
    "<br>\n",
    "<br>\n",
    "\n",
    "</div>"
   ]
  },
  {
   "cell_type": "code",
   "execution_count": null,
   "metadata": {},
   "outputs": [],
   "source": [
    "from math import *\n",
    "import numpy as np\n",
    "\n",
    "\n",
    "# fonction retournant une liste L de 1000 valeurs aléatoires de valeur moyenne et d'incertitude connues\n",
    "def tirage(moyenne, Incertitude):\n",
    "    L = np.random.normal(moyenne, Incertitude, 1000)\n",
    "    return(L)\n",
    "\n",
    "#fonction retournant la moyenne d'une liste de valeurs \n",
    "def moy(L) :\n",
    "    vmoy = sum(L)/len(L)\n",
    "    return(vmoy)\n",
    "\n",
    "#fonction retournant l'écart type u d'une liste de valeurs\n",
    "def incertitude(L):\n",
    "    somme_carres_ecarts = 0\n",
    "    for i in range(0, len(L)):\n",
    "        somme_carres_ecarts = somme_carres_ecarts + (L[i]-moy(L))**2\n",
    "    Ur = (somme_carres_ecarts/(len(L)-1))**0.5\n",
    "    return(Ur)\n",
    "\n",
    "# demande les valeurs utiles concernant le paramètre choisi #\n",
    "\n",
    "moyenne = float(input(\"valeur du paramètre choisi = \"))\n",
    "Incertitude = float(input(\"incertitude sur la valeur du paramètre choisi = \"))\n",
    "print()\n",
    "print(\"Les valeurs sont bien enregistrées.\")"
   ]
  },
  {
   "cell_type": "markdown",
   "metadata": {},
   "source": [
    "<div class=\"alert alert-warning\">\n",
    "<b>TRAVAIL À FAIRE POUR COMPLÉTER LE BLOC SUIVANT </b> <br>\n",
    "<br>\n",
    "Le bloc suivant permet de calculer l'incertitude type u associé au paramètre étudié (ce paramètre étant la masse <i>m</i> ou la variation de température <i>deltaT</i>.\n",
    "<br>\n",
    "<br>\n",
    "\n",
    "<br>\n",
    "<br>\n",
    "Remplacer la mention \"----parametre_etudié----\" par la lettre <i>m</i> si le paramètre étudié est la masse ou par <i>deltaT</i> si le paramètre étudié est la variation de la température.\n",
    "\n",
    "<br>\n",
    "Remplacer la mention \"------A COMPLETER--------\" par le calcul à réaliser pour déterminer la valeur du rendement. Cette formule dépend littéralement de <i>m</i> si le paramètre étudié est la masse ou de <i>deltaT</i> si le paramètre étudié est la variation de la température.\n",
    "<br>\n",
    "\n",
    "<br>\n",
    "<b>ATTENTION : Une fois le programme complété, il ne faut pas oublier de l'exécuter.\n",
    "    </div>"
   ]
  },
  {
   "cell_type": "markdown",
   "metadata": {},
   "source": [
    "<details>\n",
    "<summary>Aide</summary>\n",
    "<p>Attention : la variable étudiée (\"parametre_etudie\") varie selon l'indice <i>i</i>.\n",
    "    <br> parametre_etudie[i]</p>\n",
    "</details>\n",
    "\n"
   ]
  },
  {
   "cell_type": "code",
   "execution_count": null,
   "metadata": {},
   "outputs": [],
   "source": [
    "#tirage de la liste de valeurs pour le paramètre choisi\n",
    "----parametre_etudie---- = tirage(moyenne, Incertitude)\n",
    "\n",
    "#calculs des valeurs du rendement pour chaque valeur du paramètre choisi\n",
    "liste_r = []\n",
    "for i in range(0,len(----parametre_etudie----)) :\n",
    "    r = ------A COMPLETER--------\n",
    "    #les valeurs de r sont ajoutés à la liste\n",
    "    liste_r.append(r)\n",
    "\n",
    "# étude statistique de la liste des valeurs de r\n",
    "\n",
    "rendement = moy(liste_r)\n",
    "Ur = incertitude(liste_r)"
   ]
  },
  {
   "cell_type": "markdown",
   "metadata": {},
   "source": [
    "<div class=\"alert alert-info\" role=\"alert\">\n",
    "<b>TRAVAIL À FAIRE POUR EXÉCUTER LE BLOC SUIVANT </b> <br>\n",
    "<br>\n",
    "    Le bloc de programme suivant permet d'afficher la valeur moyenne du rendement avec son inceritude Ur\n",
    "    \n",
    "<br>\n",
    "Par défaut, les caractéristiques de Jupiter sont saisies. Elles peuvent être changer pour étudier un autre astre.\n",
    "<br>\n",
    "\n",
    "<br>\n",
    "<br>\n",
    "Exécuter le bloc en faisant un \"clic gauche\" sur ce bloc puis en choisissant \"Exécuter\" dans la barre d'outils.\n",
    "<br>\n",
    "<br>\n",
    "\n",
    "</div>"
   ]
  },
  {
   "cell_type": "code",
   "execution_count": null,
   "metadata": {
    "scrolled": true
   },
   "outputs": [],
   "source": [
    "# affichage des résultats #\n",
    "\n",
    "print(\"Résultats de la simulation :\")\n",
    "print()\n",
    "print(\"valeur moyenne du rendement = \",rendement)\n",
    "print(\"incertitude sur la valeur du rendement = \",Ur)"
   ]
  },
  {
   "cell_type": "markdown",
   "metadata": {},
   "source": [
    "<div class=\"alert alert-info\" role=\"alert\">\n",
    "<b>TRAVAIL À FAIRE POUR EXÉCUTER LE BLOC SUIVANT </b> <br>\n",
    "<br>\n",
    "  Reprendre l'exécution des blocs précédents pour étudié l'influence de l'autre paramètre étudié (m ou dela T)\n",
    "    "
   ]
  },
  {
   "cell_type": "code",
   "execution_count": null,
   "metadata": {},
   "outputs": [],
   "source": []
  }
 ],
 "metadata": {
  "kernelspec": {
   "display_name": "Python 3",
   "language": "python",
   "name": "python3"
  },
  "language_info": {
   "codemirror_mode": {
    "name": "ipython",
    "version": 3
   },
   "file_extension": ".py",
   "mimetype": "text/x-python",
   "name": "python",
   "nbconvert_exporter": "python",
   "pygments_lexer": "ipython3",
   "version": "3.7.3"
  }
 },
 "nbformat": 4,
 "nbformat_minor": 2
}
